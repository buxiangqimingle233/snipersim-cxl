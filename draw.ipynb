{
 "cells": [
  {
   "cell_type": "code",
   "execution_count": null,
   "metadata": {},
   "outputs": [],
   "source": [
    "import matplotlib.pyplot as plt\n",
    "\n",
    "# Read the log file\n",
    "with open('fk.log', 'r') as f:\n",
    "    lines = f.readlines()\n",
    "\n",
    "# Parse the log file\n",
    "data = []\n",
    "for line in lines:\n",
    "    if \"EP-Bus-Record:\" in line:\n",
    "        numbers = line.split(':')[1].split(',')\n",
    "        data.extend([int(num) for num in numbers])\n",
    "\n",
    "# Draw a line plot\n",
    "plt.plot(data)\n",
    "plt.show()"
   ]
  }
 ],
 "metadata": {
  "language_info": {
   "name": "python"
  }
 },
 "nbformat": 4,
 "nbformat_minor": 2
}
